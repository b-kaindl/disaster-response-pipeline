{
 "cells": [
  {
   "cell_type": "markdown",
   "metadata": {},
   "source": [
    "# ML Pipeline Preparation\n",
    "Follow the instructions below to help you create your ML pipeline.\n",
    "### 1. Import libraries and load data from database.\n",
    "- Import Python libraries\n",
    "- Load dataset from database with [`read_sql_table`](https://pandas.pydata.org/pandas-docs/stable/generated/pandas.read_sql_table.html)\n",
    "- Define feature and target variables X and Y"
   ]
  },
  {
   "cell_type": "code",
   "execution_count": 1,
   "metadata": {},
   "outputs": [
    {
     "name": "stderr",
     "output_type": "stream",
     "text": [
      "[nltk_data] Downloading package stopwords to\n",
      "[nltk_data]     /home/kharuto/nltk_data...\n",
      "[nltk_data]   Package stopwords is already up-to-date!\n",
      "[nltk_data] Downloading package punkt to /home/kharuto/nltk_data...\n",
      "[nltk_data]   Package punkt is already up-to-date!\n",
      "[nltk_data] Downloading package wordnet to /home/kharuto/nltk_data...\n",
      "[nltk_data]   Package wordnet is already up-to-date!\n"
     ]
    }
   ],
   "source": [
    "# import libraries\n",
    "import pandas as pd\n",
    "import numpy as np\n",
    "from sqlalchemy import create_engine\n",
    "import re\n",
    "import nltk\n",
    "from nltk.corpus import stopwords\n",
    "from nltk.tokenize import sent_tokenize, word_tokenize\n",
    "from nltk.stem import WordNetLemmatizer\n",
    "nltk.download('stopwords')\n",
    "nltk.download('punkt')\n",
    "nltk.download('wordnet') # download for lemmatization\n",
    "from sklearn.pipeline import Pipeline\n",
    "from sklearn.feature_extraction.text import CountVectorizer , TfidfTransformer\n",
    "from sklearn.model_selection import train_test_split, GridSearchCV\n",
    "from sklearn.metrics import classification_report\n",
    "from sklearn.multioutput import MultiOutputClassifier\n",
    "from sklearn.neighbors import KNeighborsClassifier\n",
    "from sklearn.ensemble import RandomForestClassifier"
   ]
  },
  {
   "cell_type": "code",
   "execution_count": 2,
   "metadata": {},
   "outputs": [],
   "source": [
    "# load data from database\n",
    "engine = create_engine('sqlite:///disasterpipe.db')\n",
    "df = pd.read_sql_table('dp.messages', engine)"
   ]
  },
  {
   "cell_type": "code",
   "execution_count": 3,
   "metadata": {},
   "outputs": [],
   "source": [
    "# could also think about including message type\n",
    "x_cols = 'message'\n",
    "X = df[x_cols].astype(str) #would like to use original too, but idk which language it is... some creol?\n",
    "Y = df.drop(columns = [x_cols, 'id', 'original', 'genre'])"
   ]
  },
  {
   "cell_type": "code",
   "execution_count": 4,
   "metadata": {},
   "outputs": [
    {
     "data": {
      "text/plain": [
       "array([1, 0])"
      ]
     },
     "execution_count": 4,
     "metadata": {},
     "output_type": "execute_result"
    }
   ],
   "source": [
    "Y.related.unique()"
   ]
  },
  {
   "cell_type": "code",
   "execution_count": 5,
   "metadata": {},
   "outputs": [],
   "source": [
    "lf = lambda text : re.sub(r'[^a-zA-Z0-9]', ' ')"
   ]
  },
  {
   "cell_type": "markdown",
   "metadata": {},
   "source": [
    "### 2. Write a tokenization function to process your text data"
   ]
  },
  {
   "cell_type": "code",
   "execution_count": 6,
   "metadata": {},
   "outputs": [],
   "source": [
    "def tokenize(text):\n",
    "#     normalize\n",
    "    text = re.sub(r'[^a-zA-z0-9]',' ', text.lower())\n",
    "    \n",
    "    words = [word for word in word_tokenize(text) if word not in stopwords.words('english')]\n",
    "    \n",
    "    lemmatizer = WordNetLemmatizer()\n",
    "    \n",
    "    clean_tokens = []\n",
    "    for tok in words:\n",
    "        cleanboi = lemmatizer.lemmatize(tok).lower().strip()\n",
    "        clean_tokens.append(cleanboi)\n",
    "    \n",
    "    return clean_tokens"
   ]
  },
  {
   "cell_type": "markdown",
   "metadata": {},
   "source": [
    "### 3. Build a machine learning pipeline\n",
    "This machine pipeline should take in the `message` column as input and output classification results on the other 36 categories in the dataset. You may find the [MultiOutputClassifier](http://scikit-learn.org/stable/modules/generated/sklearn.multioutput.MultiOutputClassifier.html) helpful for predicting multiple target variables."
   ]
  },
  {
   "cell_type": "code",
   "execution_count": 7,
   "metadata": {},
   "outputs": [],
   "source": [
    "pipeline = Pipeline([\n",
    "    ('textpipe', CountVectorizer(tokenizer = tokenize)), # put TFIDF here if necessary\n",
    "    ('tfidf', TfidfTransformer()),\n",
    "    ('clf', MultiOutputClassifier(RandomForestClassifier(n_jobs = -1)))\n",
    "    \n",
    "])"
   ]
  },
  {
   "cell_type": "markdown",
   "metadata": {},
   "source": [
    "### 4. Train pipeline\n",
    "- Split data into train and test sets\n",
    "- Train pipeline"
   ]
  },
  {
   "cell_type": "code",
   "execution_count": 18,
   "metadata": {},
   "outputs": [],
   "source": [
    "X_train, X_test, y_train, y_test = train_test_split(X, Y, test_size=0.3, random_state=42)"
   ]
  },
  {
   "cell_type": "code",
   "execution_count": 11,
   "metadata": {},
   "outputs": [],
   "source": [
    "model = pipeline\n",
    "model.fit(X_train, y_train)\n",
    "y_pred = model.predict(X_test)"
   ]
  },
  {
   "cell_type": "code",
   "execution_count": 12,
   "metadata": {},
   "outputs": [
    {
     "data": {
      "text/plain": [
       "array([0, 1])"
      ]
     },
     "execution_count": 12,
     "metadata": {},
     "output_type": "execute_result"
    }
   ],
   "source": [
    "y_test.related.unique()"
   ]
  },
  {
   "cell_type": "markdown",
   "metadata": {},
   "source": [
    "### 5. Test your model\n",
    "Report the f1 score, precision and recall for each output category of the dataset. You can do this by iterating through the columns and calling sklearn's `classification_report` on each."
   ]
  },
  {
   "cell_type": "code",
   "execution_count": 13,
   "metadata": {},
   "outputs": [
    {
     "name": "stdout",
     "output_type": "stream",
     "text": [
      "                        precision    recall  f1-score   support\n",
      "\n",
      "               related       0.83      0.95      0.89      1962\n",
      "               request       0.80      0.51      0.62       428\n",
      "                 offer       0.00      0.00      0.00        14\n",
      "           aid_related       0.76      0.71      0.73      1045\n",
      "          medical_help       0.81      0.06      0.11       224\n",
      "      medical_products       0.80      0.08      0.15       142\n",
      "     search_and_rescue       0.50      0.03      0.05        80\n",
      "              security       0.00      0.00      0.00        58\n",
      "              military       0.75      0.04      0.07        82\n",
      "           child_alone       0.00      0.00      0.00         0\n",
      "                 water       0.88      0.33      0.48       171\n",
      "                  food       0.77      0.69      0.73       275\n",
      "               shelter       0.84      0.40      0.54       243\n",
      "              clothing       0.88      0.19      0.32        36\n",
      "                 money       1.00      0.09      0.16        58\n",
      "        missing_people       1.00      0.03      0.07        29\n",
      "              refugees       0.60      0.07      0.13        83\n",
      "                 death       0.88      0.20      0.33       110\n",
      "             other_aid       0.58      0.03      0.07       317\n",
      "infrastructure_related       0.00      0.00      0.00       159\n",
      "             transport       0.73      0.09      0.17       117\n",
      "             buildings       0.86      0.13      0.22       143\n",
      "           electricity       0.75      0.06      0.11        51\n",
      "                 tools       0.00      0.00      0.00        16\n",
      "             hospitals       0.00      0.00      0.00        30\n",
      "                 shops       0.00      0.00      0.00        11\n",
      "           aid_centers       0.00      0.00      0.00        34\n",
      "  other_infrastructure       0.00      0.00      0.00       104\n",
      "       weather_related       0.85      0.71      0.77       738\n",
      "                floods       0.95      0.52      0.67       209\n",
      "                 storm       0.83      0.56      0.67       258\n",
      "                  fire       0.50      0.03      0.06        33\n",
      "            earthquake       0.88      0.74      0.80       255\n",
      "                  cold       1.00      0.08      0.15        63\n",
      "         other_weather       0.88      0.05      0.10       128\n",
      "         direct_report       0.78      0.37      0.50       498\n",
      "\n",
      "             micro avg       0.82      0.54      0.65      8204\n",
      "             macro avg       0.60      0.22      0.27      8204\n",
      "          weighted avg       0.76      0.54      0.58      8204\n",
      "           samples avg       0.66      0.48      0.51      8204\n",
      "\n"
     ]
    },
    {
     "name": "stderr",
     "output_type": "stream",
     "text": [
      "/home/kharuto/Documents/projects/b-kaindl/udacity_new/lesson2/project/env/lib/python3.7/site-packages/sklearn/metrics/_classification.py:1272: UndefinedMetricWarning: Precision and F-score are ill-defined and being set to 0.0 in labels with no predicted samples. Use `zero_division` parameter to control this behavior.\n",
      "  _warn_prf(average, modifier, msg_start, len(result))\n",
      "/home/kharuto/Documents/projects/b-kaindl/udacity_new/lesson2/project/env/lib/python3.7/site-packages/sklearn/metrics/_classification.py:1272: UndefinedMetricWarning: Recall and F-score are ill-defined and being set to 0.0 in labels with no true samples. Use `zero_division` parameter to control this behavior.\n",
      "  _warn_prf(average, modifier, msg_start, len(result))\n",
      "/home/kharuto/Documents/projects/b-kaindl/udacity_new/lesson2/project/env/lib/python3.7/site-packages/sklearn/metrics/_classification.py:1272: UndefinedMetricWarning: Precision and F-score are ill-defined and being set to 0.0 in samples with no predicted labels. Use `zero_division` parameter to control this behavior.\n",
      "  _warn_prf(average, modifier, msg_start, len(result))\n",
      "/home/kharuto/Documents/projects/b-kaindl/udacity_new/lesson2/project/env/lib/python3.7/site-packages/sklearn/metrics/_classification.py:1272: UndefinedMetricWarning: Recall and F-score are ill-defined and being set to 0.0 in samples with no true labels. Use `zero_division` parameter to control this behavior.\n",
      "  _warn_prf(average, modifier, msg_start, len(result))\n"
     ]
    }
   ],
   "source": [
    "# https://datascience.stackexchange.com/questions/15989/micro-average-vs-macro-average-performance-in-a-multiclass-classification-settin\n",
    "print(classification_report(y_test.values, y_pred, target_names=Y.columns.values))\n"
   ]
  },
  {
   "cell_type": "markdown",
   "metadata": {},
   "source": [
    "### 6. Improve your model\n",
    "Use grid search to find better parameters. "
   ]
  },
  {
   "cell_type": "code",
   "execution_count": 28,
   "metadata": {},
   "outputs": [],
   "source": []
  },
  {
   "cell_type": "markdown",
   "metadata": {},
   "source": [
    "### 7. Test your model\n",
    "Show the accuracy, precision, and recall of the tuned model.  \n",
    "\n",
    "Since this project focuses on code quality, process, and  pipelines, there is no minimum performance metric needed to pass. However, make sure to fine tune your models for accuracy, precision and recall to make your project stand out - especially for your portfolio!"
   ]
  },
  {
   "cell_type": "markdown",
   "metadata": {},
   "source": [
    "### 8. Try improving your model further. Here are a few ideas:\n",
    "* try other machine learning algorithms\n",
    "* add other features besides the TF-IDF"
   ]
  },
  {
   "cell_type": "code",
   "execution_count": 29,
   "metadata": {},
   "outputs": [
    {
     "name": "stdout",
     "output_type": "stream",
     "text": [
      "Fitting 5 folds for each of 72 candidates, totalling 360 fits\n"
     ]
    },
    {
     "name": "stderr",
     "output_type": "stream",
     "text": [
      "[Parallel(n_jobs=-1)]: Using backend LokyBackend with 8 concurrent workers.\n",
      "[Parallel(n_jobs=-1)]: Done   9 tasks      | elapsed:  2.9min\n",
      "[Parallel(n_jobs=-1)]: Done  82 tasks      | elapsed: 16.1min\n",
      "[Parallel(n_jobs=-1)]: Done 205 tasks      | elapsed: 38.7min\n",
      "[Parallel(n_jobs=-1)]: Done 360 out of 360 | elapsed: 67.0min finished\n"
     ]
    }
   ],
   "source": []
  },
  {
   "cell_type": "code",
   "execution_count": 29,
   "metadata": {},
   "outputs": [
    {
     "name": "stdout",
     "output_type": "stream",
     "text": [
      "Fitting 3 folds for each of 24 candidates, totalling 72 fits\n"
     ]
    },
    {
     "name": "stderr",
     "output_type": "stream",
     "text": [
      "[Parallel(n_jobs=-1)]: Using backend LokyBackend with 8 concurrent workers.\n",
      "[Parallel(n_jobs=-1)]: Done   9 tasks      | elapsed:  2.7min\n",
      "[Parallel(n_jobs=-1)]: Done  72 out of  72 | elapsed: 12.6min finished\n"
     ]
    },
    {
     "name": "stdout",
     "output_type": "stream",
     "text": [
      "{'clf__estimator__criterion': 'gini', 'clf__estimator__max_depth': 125, 'clf__estimator__min_samples_leaf': 5, 'clf__estimator__n_estimators': 1}\n",
      "                        precision    recall  f1-score   support\n",
      "\n",
      "               related       0.79      0.93      0.86      5941\n",
      "               request       0.54      0.39      0.45      1333\n",
      "                 offer       0.00      0.00      0.00        34\n",
      "           aid_related       0.63      0.64      0.64      3286\n",
      "          medical_help       0.42      0.08      0.14       644\n",
      "      medical_products       0.24      0.02      0.04       414\n",
      "     search_and_rescue       0.36      0.05      0.09       239\n",
      "              security       0.00      0.00      0.00       156\n",
      "              military       0.59      0.11      0.19       267\n",
      "           child_alone       0.00      0.00      0.00         0\n",
      "                 water       0.43      0.10      0.16       512\n",
      "                  food       0.59      0.18      0.28       878\n",
      "               shelter       0.65      0.20      0.30       714\n",
      "              clothing       0.84      0.17      0.28       123\n",
      "                 money       0.00      0.00      0.00       192\n",
      "        missing_people       0.00      0.00      0.00        88\n",
      "              refugees       0.11      0.01      0.01       259\n",
      "                 death       0.50      0.11      0.17       369\n",
      "             other_aid       0.19      0.02      0.03      1021\n",
      "infrastructure_related       0.09      0.01      0.01       521\n",
      "             transport       0.62      0.13      0.22       362\n",
      "             buildings       0.62      0.28      0.39       430\n",
      "           electricity       0.29      0.01      0.03       148\n",
      "                 tools       0.00      0.00      0.00        46\n",
      "             hospitals       0.00      0.00      0.00        90\n",
      "                 shops       0.00      0.00      0.00        39\n",
      "           aid_centers       0.00      0.00      0.00        86\n",
      "  other_infrastructure       0.18      0.01      0.02       350\n",
      "       weather_related       0.67      0.50      0.57      2188\n",
      "                floods       0.57      0.22      0.32       639\n",
      "                 storm       0.68      0.56      0.62       744\n",
      "                  fire       0.00      0.00      0.00        88\n",
      "            earthquake       0.85      0.67      0.75       734\n",
      "                  cold       0.20      0.02      0.03       169\n",
      "         other_weather       0.38      0.07      0.12       388\n",
      "         direct_report       0.53      0.23      0.32      1547\n",
      "\n",
      "             micro avg       0.69      0.46      0.55     25039\n",
      "             macro avg       0.35      0.16      0.20     25039\n",
      "          weighted avg       0.58      0.46      0.48     25039\n",
      "           samples avg       0.61      0.43      0.46     25039\n",
      "\n"
     ]
    },
    {
     "name": "stderr",
     "output_type": "stream",
     "text": [
      "/home/kharuto/Documents/projects/b-kaindl/udacity_new/lesson2/project/env/lib/python3.7/site-packages/sklearn/metrics/_classification.py:1272: UndefinedMetricWarning: Precision and F-score are ill-defined and being set to 0.0 in labels with no predicted samples. Use `zero_division` parameter to control this behavior.\n",
      "  _warn_prf(average, modifier, msg_start, len(result))\n",
      "/home/kharuto/Documents/projects/b-kaindl/udacity_new/lesson2/project/env/lib/python3.7/site-packages/sklearn/metrics/_classification.py:1272: UndefinedMetricWarning: Recall and F-score are ill-defined and being set to 0.0 in labels with no true samples. Use `zero_division` parameter to control this behavior.\n",
      "  _warn_prf(average, modifier, msg_start, len(result))\n",
      "/home/kharuto/Documents/projects/b-kaindl/udacity_new/lesson2/project/env/lib/python3.7/site-packages/sklearn/metrics/_classification.py:1272: UndefinedMetricWarning: Precision and F-score are ill-defined and being set to 0.0 in samples with no predicted labels. Use `zero_division` parameter to control this behavior.\n",
      "  _warn_prf(average, modifier, msg_start, len(result))\n",
      "/home/kharuto/Documents/projects/b-kaindl/udacity_new/lesson2/project/env/lib/python3.7/site-packages/sklearn/metrics/_classification.py:1272: UndefinedMetricWarning: Recall and F-score are ill-defined and being set to 0.0 in samples with no true labels. Use `zero_division` parameter to control this behavior.\n",
      "  _warn_prf(average, modifier, msg_start, len(result))\n"
     ]
    }
   ],
   "source": [
    "parameters = {'clf__estimator__criterion': ['gini', 'entropy'],\n",
    "'clf__estimator__max_depth' : [125,150,175],\n",
    "'clf__estimator__n_estimators' : [1,5],\n",
    "'clf__estimator__min_samples_leaf' : [5,10]}\n",
    "    \n",
    "cv = GridSearchCV(pipeline, param_grid=parameters, cv = 3, verbose=4, n_jobs =-1, scoring = 'f1_weighted') \n",
    "cv.fit(X_train, y_train)\n",
    "y_pred_cv = cv.predict(X_test)\n",
    "print(cv.best_params_)\n",
    "print(classification_report(y_test.values, y_pred_cv, target_names=Y.columns.values))"
   ]
  },
  {
   "cell_type": "markdown",
   "metadata": {},
   "source": [
    "### 9. Export your model as a pickle file"
   ]
  },
  {
   "cell_type": "code",
   "execution_count": 16,
   "metadata": {},
   "outputs": [],
   "source": [
    "import pickle\n",
    "with open(\"model_75acc.pkl\", 'wb') as file:\n",
    "    pickle.dump(cv, file)"
   ]
  },
  {
   "cell_type": "markdown",
   "metadata": {},
   "source": [
    "### 10. Use this notebook to complete `train.py`\n",
    "Use the template file attached in the Resources folder to write a script that runs the steps above to create a database and export a model based on a new dataset specified by the user."
   ]
  },
  {
   "cell_type": "code",
   "execution_count": null,
   "metadata": {},
   "outputs": [],
   "source": []
  }
 ],
 "metadata": {
  "kernelspec": {
   "display_name": "project",
   "language": "python",
   "name": "project"
  },
  "language_info": {
   "codemirror_mode": {
    "name": "ipython",
    "version": 3
   },
   "file_extension": ".py",
   "mimetype": "text/x-python",
   "name": "python",
   "nbconvert_exporter": "python",
   "pygments_lexer": "ipython3",
   "version": "3.7.5"
  }
 },
 "nbformat": 4,
 "nbformat_minor": 4
}
